{
 "cells": [
  {
   "cell_type": "code",
   "execution_count": 100,
   "id": "672637da-0afb-4007-ab65-42d4f07015dc",
   "metadata": {},
   "outputs": [],
   "source": [
    "import cv2\n",
    "import face_recognition\n",
    "\n",
    "import csv\n",
    "import os\n",
    "\n",
    "import numpy as np\n",
    "from datetime import datetime"
   ]
  },
  {
   "cell_type": "code",
   "execution_count": 102,
   "id": "29180fbc-663d-477f-a5ef-cb37178b6a9c",
   "metadata": {},
   "outputs": [],
   "source": [
    "target_size = (128,128)\n",
    "\n",
    "def preprocess_image(img):\n",
    "    img = cv2.resize(img, target_size)\n",
    "    img = img.astype('float64') / 255\n",
    "    img = np.expand_dims(img, axis=0)\n",
    "    return img"
   ]
  },
  {
   "cell_type": "code",
   "execution_count": 104,
   "id": "2ba68047-396b-475d-a48b-ef7170d446f4",
   "metadata": {},
   "outputs": [
    {
     "name": "stdout",
     "output_type": "stream",
     "text": [
      "Load 5 encodings\n",
      "Known Face Names ['Anas', 'Shehryar', 'Usaid', 'Waqas', 'Zohaib']\n"
     ]
    }
   ],
   "source": [
    "folder = 'pictures'\n",
    "\n",
    "known_face_names = []\n",
    "known_face_encodings = []\n",
    "\n",
    "for filename in os.listdir(folder):\n",
    "    img = os.path.join(folder, filename)\n",
    "    image = face_recognition.load_image_file(img)\n",
    "    face_encodings = face_recognition.face_encodings(image)\n",
    "\n",
    "    if face_encodings:\n",
    "        name = os.path.splitext(filename)[0]\n",
    "        known_face_encodings.append(face_encodings[0])\n",
    "        known_face_names.append(name)\n",
    "\n",
    "print(f\"Load {len(known_face_encodings)} encodings\")\n",
    "print(\"Known Face Names\", known_face_names)"
   ]
  },
  {
   "cell_type": "code",
   "execution_count": 105,
   "id": "c2957808-b942-497f-ad6e-bbd8ec7138e3",
   "metadata": {},
   "outputs": [],
   "source": [
    "attendance_file = 'attendance.csv'\n",
    "\n",
    "def intialize_csv(attendance_file):\n",
    "    if not os.path.exists(attendance_file):\n",
    "        with open(attendance_file, 'w', newline='') as f:\n",
    "            writer = csv.writer(f)\n",
    "            writer.writerow(['Name', 'Status', 'Time', 'Date'])\n",
    "\n",
    "    \n",
    "\n",
    "attendance = set()\n",
    "\n",
    "def mark_attendance(name, status):\n",
    "    now = datetime.now()\n",
    "    time = now.strftime(\"%I:%M %p\")\n",
    "    date = now.strftime(\"%d-%m-%Y\")\n",
    "\n",
    "    if name not in attendance:\n",
    "        attendance.add(name)\n",
    "        with open(attendance_file, 'a', newline='') as f:\n",
    "            writer = csv.writer(f)\n",
    "            writer.writerow([name, status, time, date])"
   ]
  },
  {
   "cell_type": "code",
   "execution_count": 106,
   "id": "25b64c29-a271-4d7b-bdda-986175938938",
   "metadata": {},
   "outputs": [],
   "source": [
    "def video():\n",
    "    cap = cv2.VideoCapture(0) \n",
    "\n",
    "    while True:\n",
    "        ret, frame = cap.read()\n",
    "        if not ret:\n",
    "            break\n",
    "            \n",
    "        rgb = cv2.cvtColor(frame, cv2.COLOR_BGR2RGB)\n",
    "\n",
    "        # Find all face locations and encodings in the frame\n",
    "        face_locations = face_recognition.face_locations(rgb)\n",
    "        face_encodings = face_recognition.face_encodings(rgb, face_locations)\n",
    "\n",
    "        for (top, right, bottom, left), face_encoding in zip(face_locations, face_encodings):\n",
    "            # Check if the face matches any known encodings\n",
    "            matches = face_recognition.compare_faces(known_face_encodings, face_encoding)\n",
    "            distance = face_recognition.face_distance(known_face_encodings, face_encoding)\n",
    "            best_match_index = np.argmin(distance)  \n",
    "            name = 'Unknown'\n",
    "            if matches[best_match_index]:\n",
    "                name = known_face_names[best_match_index]\n",
    "            \n",
    "            cv2.rectangle(frame, (left, top), (right, bottom), (0, 255, 0), 1)\n",
    "            cv2.putText(frame, name, (left, top - 10), cv2.FONT_ITALIC, 0.9, (255, 255, 255), 1)\n",
    "\n",
    "            \n",
    "            if name != 'Unknown':\n",
    "                mark_attendance(name, 'Present')\n",
    "\n",
    "        # Display the resulting frame\n",
    "        cv2.imshow('Attendance System', frame)  \n",
    "\n",
    "        # Press 'q' to exit the loop\n",
    "        if cv2.waitKey(10) & 0xFF == ord('q'):\n",
    "            break\n",
    "\n",
    "    # Release the video capture and close display windows\n",
    "    cap.release()\n",
    "    cv2.destroyAllWindows()\n",
    "\n",
    "def run_attendance_system():\n",
    "    intialize_csv(attendance_file)\n",
    "    video()\n",
    "\n",
    "run_attendance_system()"
   ]
  },
  {
   "cell_type": "code",
   "execution_count": null,
   "id": "e4621471-5123-4ed4-b5e3-e08ce89b3c74",
   "metadata": {},
   "outputs": [],
   "source": []
  }
 ],
 "metadata": {
  "kernelspec": {
   "display_name": "Python 3 (ipykernel)",
   "language": "python",
   "name": "python3"
  },
  "language_info": {
   "codemirror_mode": {
    "name": "ipython",
    "version": 3
   },
   "file_extension": ".py",
   "mimetype": "text/x-python",
   "name": "python",
   "nbconvert_exporter": "python",
   "pygments_lexer": "ipython3",
   "version": "3.12.4"
  }
 },
 "nbformat": 4,
 "nbformat_minor": 5
}
